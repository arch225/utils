{
 "cells": [
  {
   "cell_type": "code",
   "execution_count": 11,
   "metadata": {},
   "outputs": [],
   "source": [
    "import PyPDF2\n",
    "import pyttsx3\n",
    "\n",
    "# Open the PDF file (Enter Path To Your PDF)\n",
    "file = open('story.pdf', 'rb')\n",
    "readpdf = PyPDF2.PdfReader(file)\n",
    "\n",
    "# Initialize text-to-speech engine\n",
    "speaker = pyttsx3.init()\n",
    "rate = speaker.getProperty('rate')   # Get current speaking rate\n",
    "speaker.setProperty('rate', 200)\n",
    "\n",
    "volume = speaker.getProperty('volume')\n",
    "speaker.setProperty('volume', 10)  # Set volume level (0.0 to 1.0)\n",
    "\n",
    "# Get and set a different voice\n",
    "voices = speaker.getProperty('voices')\n",
    "for voice in voices:\n",
    "    if \"english\" in voice.name.lower() and \"us\" in voice.name.lower():\n",
    "        speaker.setProperty('voice', voice.id)\n",
    "        break\n",
    "# Iterate over each page in the PDF\n",
    "for pagenumber in range(len(readpdf.pages)):\n",
    "    # Extract text from the page\n",
    "    page = readpdf.pages[pagenumber]\n",
    "    text = page.extract_text()\n",
    "    \n",
    "    # Use the speaker to read the text\n",
    "    # speaker.say(text)\n",
    "    # speaker.runAndWait()\n",
    "\n",
    "# Save the last extracted text to an audio file (if needed)\n",
    "speaker.save_to_file(text, 'story.mp3')\n",
    "speaker.runAndWait()\n",
    "\n",
    "# Stop the speaker\n",
    "speaker.stop()\n",
    "\n",
    "# Close the PDF file\n",
    "file.close()"
   ]
  }
 ],
 "metadata": {
  "kernelspec": {
   "display_name": "base",
   "language": "python",
   "name": "python3"
  },
  "language_info": {
   "codemirror_mode": {
    "name": "ipython",
    "version": 3
   },
   "file_extension": ".py",
   "mimetype": "text/x-python",
   "name": "python",
   "nbconvert_exporter": "python",
   "pygments_lexer": "ipython3",
   "version": "3.11.7"
  },
  "orig_nbformat": 4
 },
 "nbformat": 4,
 "nbformat_minor": 2
}
